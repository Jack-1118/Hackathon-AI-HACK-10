{
 "cells": [
  {
   "cell_type": "markdown",
   "metadata": {},
   "source": [
    "**Dependencies**"
   ]
  },
  {
   "cell_type": "code",
   "execution_count": null,
   "metadata": {},
   "outputs": [],
   "source": [
    "# Installing python dependencies\n",
    "%pip install openai jsonlines"
   ]
  },
  {
   "cell_type": "code",
   "execution_count": null,
   "metadata": {},
   "outputs": [],
   "source": [
    "# Import Libraries\n",
    "\n",
    "import json\n",
    "from openai import OpenAI"
   ]
  },
  {
   "cell_type": "markdown",
   "metadata": {},
   "source": [
    "**Module**"
   ]
  },
  {
   "cell_type": "code",
   "execution_count": null,
   "metadata": {},
   "outputs": [],
   "source": [
    "%pip install nbformat"
   ]
  },
  {
   "cell_type": "markdown",
   "metadata": {},
   "source": [
    "**Authentication**"
   ]
  },
  {
   "cell_type": "code",
   "execution_count": null,
   "metadata": {},
   "outputs": [],
   "source": [
    "# Initializing GPT Api\n",
    "api_key = \"\"\n",
    "client = OpenAI(api_key=api_key)"
   ]
  },
  {
   "cell_type": "markdown",
   "metadata": {},
   "source": [
    "**Dataset**"
   ]
  },
  {
   "cell_type": "code",
   "execution_count": null,
   "metadata": {},
   "outputs": [],
   "source": [
    "#Trip dataset\n",
    "%run dataset.ipynb\n",
    "\n",
    "print(data) "
   ]
  },
  {
   "cell_type": "code",
   "execution_count": null,
   "metadata": {},
   "outputs": [],
   "source": [
    "#Converting the database to a suitable format\\\n",
    "import jsonlines\n",
    "\n",
    "jsonl_filename = \"output.jsonl\"\n",
    "\n",
    "#save as JSONL (Json line file)\n",
    "with jsonlines.open(jsonl_filename,\"w\") as writer:\n",
    "    writer.write_all(data)"
   ]
  },
  {
   "cell_type": "code",
   "execution_count": null,
   "metadata": {},
   "outputs": [],
   "source": [
    "# Insert the training data into context\n",
    "file = client.files.create(\n",
    "  file = open(jsonl_filename, \"rb\"),\n",
    "  purpose = \"fine-tune\"\n",
    ")\n",
    "\n",
    "\n",
    "# Extracting the dataset id\n",
    "dataset = file.id\n",
    "print(dataset)"
   ]
  },
  {
   "cell_type": "markdown",
   "metadata": {},
   "source": [
    "**Training our model**"
   ]
  },
  {
   "cell_type": "code",
   "execution_count": null,
   "metadata": {},
   "outputs": [],
   "source": [
    "# Starting a fine-tuning job\n",
    "trained_model = client.fine_tuning.jobs.create(\n",
    "  training_file=dataset, \n",
    "  model=\"gpt-3.5-turbo\",\n",
    "hyperparameters={\n",
    "    \"n_epochs\":1\n",
    "  }\n",
    ")\n",
    "\n",
    "# Retrieving The model Training Status\n",
    "jobstatus = client.fine_tuning.jobs.retrieve(trained_model.id)\n",
    "print(jobstatus)"
   ]
  },
  {
   "cell_type": "code",
   "execution_count": null,
   "metadata": {},
   "outputs": [],
   "source": [
    "# Retrieving The model Training Status\n",
    "jobstatus = client.fine_tuning.jobs.retrieve(trained_model.id)\n",
    "print(jobstatus)"
   ]
  },
  {
   "cell_type": "markdown",
   "metadata": {},
   "source": [
    "**Extracting Model**"
   ]
  },
  {
   "cell_type": "code",
   "execution_count": null,
   "metadata": {},
   "outputs": [],
   "source": [
    "# Retrieving The fine-tuned model id\n",
    "fine_tuned_model = jobstatus.fine_tuned_model\n",
    "print(fine_tuned_model)"
   ]
  },
  {
   "cell_type": "markdown",
   "metadata": {},
   "source": [
    "Interacting with ai\n"
   ]
  },
  {
   "cell_type": "code",
   "execution_count": null,
   "metadata": {},
   "outputs": [],
   "source": [
    "# Generate the response\n",
    "def answer(question):\n",
    "\n",
    "    prompt = [{\"role\": \"system\", \"content\": \"Marv is a rude chatbot that is also blunt.\"}, {\"role\": \"user\", \"content\": question}]\n",
    "    response = client.chat.completions.create(\n",
    "        model=fine_tuned_model,\n",
    "        messages=prompt \n",
    "        )\n",
    "    \n",
    "    response_msg = response.choices[0].message.content\n",
    "\n",
    "    return response_msg"
   ]
  },
  {
   "cell_type": "code",
   "execution_count": null,
   "metadata": {},
   "outputs": [],
   "source": [
    "#prompt for input from user\n",
    "country = input(\"Country: \")\n",
    "state = input(\"State: \")\n",
    "day = input(\"Number of day: \")\n",
    "\n",
    "command = f\"country: {country}, state: {state}, day: {day}\"\n",
    "\n",
    "# Generate the response\n",
    "output = answer(command)\n",
    "print(output)"
   ]
  }
 ],
 "metadata": {
  "kernelspec": {
   "display_name": "Python 3",
   "language": "python",
   "name": "python3"
  },
  "language_info": {
   "codemirror_mode": {
    "name": "ipython",
    "version": 3
   },
   "file_extension": ".py",
   "mimetype": "text/x-python",
   "name": "python",
   "nbconvert_exporter": "python",
   "pygments_lexer": "ipython3",
   "version": "3.11.3"
  }
 },
 "nbformat": 4,
 "nbformat_minor": 2
}
