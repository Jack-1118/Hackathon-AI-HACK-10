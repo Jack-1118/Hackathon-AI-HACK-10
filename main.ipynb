{
 "cells": [
  {
   "cell_type": "markdown",
   "metadata": {},
   "source": [
    "**Dependencies**"
   ]
  },
  {
   "cell_type": "code",
   "execution_count": 1,
   "metadata": {},
   "outputs": [
    {
     "name": "stdout",
     "output_type": "stream",
     "text": [
      "Note: you may need to restart the kernel to use updated packages.Requirement already satisfied: openai in c:\\users\\theke\\appdata\\local\\programs\\python\\python311\\lib\\site-packages (1.3.6)\n",
      "Requirement already satisfied: jsonlines in c:\\users\\theke\\appdata\\local\\programs\\python\\python311\\lib\\site-packages (4.0.0)\n",
      "Requirement already satisfied: anyio<4,>=3.5.0 in c:\\users\\theke\\appdata\\local\\programs\\python\\python311\\lib\\site-packages (from openai) (3.7.1)\n",
      "Requirement already satisfied: distro<2,>=1.7.0 in c:\\users\\theke\\appdata\\local\\programs\\python\\python311\\lib\\site-packages (from openai) (1.8.0)\n",
      "Requirement already satisfied: httpx<1,>=0.23.0 in c:\\users\\theke\\appdata\\local\\programs\\python\\python311\\lib\\site-packages (from openai) (0.25.2)\n",
      "Requirement already satisfied: pydantic<3,>=1.9.0 in c:\\users\\theke\\appdata\\local\\programs\\python\\python311\\lib\\site-packages (from openai) (2.5.2)\n",
      "Requirement already satisfied: sniffio in c:\\users\\theke\\appdata\\local\\programs\\python\\python311\\lib\\site-packages (from openai) (1.3.0)\n",
      "Requirement already satisfied: tqdm>4 in c:\\users\\theke\\appdata\\local\\programs\\python\\python311\\lib\\site-packages (from openai) (4.66.1)\n",
      "Requirement already satisfied: typing-extensions<5,>=4.5 in c:\\users\\theke\\appdata\\local\\programs\\python\\python311\\lib\\site-packages (from openai) (4.8.0)\n",
      "Requirement already satisfied: attrs>=19.2.0 in c:\\users\\theke\\appdata\\local\\programs\\python\\python311\\lib\\site-packages (from jsonlines) (23.1.0)\n",
      "Requirement already satisfied: idna>=2.8 in c:\\users\\theke\\appdata\\local\\programs\\python\\python311\\lib\\site-packages (from anyio<4,>=3.5.0->openai) (3.6)\n",
      "Requirement already satisfied: certifi in c:\\users\\theke\\appdata\\local\\programs\\python\\python311\\lib\\site-packages (from httpx<1,>=0.23.0->openai) (2023.11.17)\n",
      "Requirement already satisfied: httpcore==1.* in c:\\users\\theke\\appdata\\local\\programs\\python\\python311\\lib\\site-packages (from httpx<1,>=0.23.0->openai) (1.0.2)\n",
      "Requirement already satisfied: h11<0.15,>=0.13 in c:\\users\\theke\\appdata\\local\\programs\\python\\python311\\lib\\site-packages (from httpcore==1.*->httpx<1,>=0.23.0->openai) (0.14.0)\n",
      "Requirement already satisfied: annotated-types>=0.4.0 in c:\\users\\theke\\appdata\\local\\programs\\python\\python311\\lib\\site-packages (from pydantic<3,>=1.9.0->openai) (0.6.0)\n",
      "Requirement already satisfied: pydantic-core==2.14.5 in c:\\users\\theke\\appdata\\local\\programs\\python\\python311\\lib\\site-packages (from pydantic<3,>=1.9.0->openai) (2.14.5)\n",
      "Requirement already satisfied: colorama in c:\\users\\theke\\appdata\\roaming\\python\\python311\\site-packages (from tqdm>4->openai) (0.4.6)\n",
      "\n"
     ]
    },
    {
     "name": "stderr",
     "output_type": "stream",
     "text": [
      "\n",
      "[notice] A new release of pip available: 22.3.1 -> 23.3.1\n",
      "[notice] To update, run: python.exe -m pip install --upgrade pip\n"
     ]
    }
   ],
   "source": [
    "# Installing python dependencies\n",
    "%pip install openai jsonlines"
   ]
  },
  {
   "cell_type": "code",
   "execution_count": 4,
   "metadata": {},
   "outputs": [],
   "source": [
    "# Import Libraries\n",
    "\n",
    "import json\n",
    "from openai import OpenAI"
   ]
  },
  {
   "cell_type": "markdown",
   "metadata": {},
   "source": [
    "**Module**"
   ]
  },
  {
   "cell_type": "code",
   "execution_count": 2,
   "metadata": {},
   "outputs": [
    {
     "name": "stdout",
     "output_type": "stream",
     "text": [
      "Collecting nbformat\n",
      "  Downloading nbformat-5.9.2-py3-none-any.whl.metadata (3.4 kB)\n",
      "Collecting fastjsonschema (from nbformat)\n",
      "  Downloading fastjsonschema-2.19.0-py3-none-any.whl.metadata (2.0 kB)\n",
      "Collecting jsonschema>=2.6 (from nbformat)\n",
      "  Downloading jsonschema-4.20.0-py3-none-any.whl.metadata (8.1 kB)\n",
      "Requirement already satisfied: jupyter-core in c:\\users\\jack8\\appdata\\roaming\\python\\python311\\site-packages (from nbformat) (5.5.0)\n",
      "Requirement already satisfied: traitlets>=5.1 in c:\\users\\jack8\\appdata\\roaming\\python\\python311\\site-packages (from nbformat) (5.14.0)\n",
      "Collecting attrs>=22.2.0 (from jsonschema>=2.6->nbformat)\n",
      "  Downloading attrs-23.1.0-py3-none-any.whl (61 kB)\n",
      "     ---------------------------------------- 0.0/61.2 kB ? eta -:--:--\n",
      "     ---------------------------------------- 61.2/61.2 kB 1.6 MB/s eta 0:00:00\n",
      "Collecting jsonschema-specifications>=2023.03.6 (from jsonschema>=2.6->nbformat)\n",
      "  Downloading jsonschema_specifications-2023.11.2-py3-none-any.whl.metadata (3.0 kB)\n",
      "Collecting referencing>=0.28.4 (from jsonschema>=2.6->nbformat)\n",
      "  Downloading referencing-0.31.1-py3-none-any.whl.metadata (2.7 kB)\n",
      "Collecting rpds-py>=0.7.1 (from jsonschema>=2.6->nbformat)\n",
      "  Downloading rpds_py-0.13.2-cp311-none-win_amd64.whl.metadata (4.0 kB)\n",
      "Requirement already satisfied: platformdirs>=2.5 in c:\\users\\jack8\\appdata\\roaming\\python\\python311\\site-packages (from jupyter-core->nbformat) (4.0.0)\n",
      "Requirement already satisfied: pywin32>=300 in c:\\users\\jack8\\appdata\\roaming\\python\\python311\\site-packages (from jupyter-core->nbformat) (306)\n",
      "Downloading nbformat-5.9.2-py3-none-any.whl (77 kB)\n",
      "   ---------------------------------------- 0.0/77.6 kB ? eta -:--:--\n",
      "   ---------------------------------------- 77.6/77.6 kB 4.2 MB/s eta 0:00:00\n",
      "Downloading jsonschema-4.20.0-py3-none-any.whl (84 kB)\n",
      "   ---------------------------------------- 0.0/84.7 kB ? eta -:--:--\n",
      "   ---------------------------------------- 84.7/84.7 kB 4.7 MB/s eta 0:00:00\n",
      "Downloading fastjsonschema-2.19.0-py3-none-any.whl (23 kB)\n",
      "Downloading jsonschema_specifications-2023.11.2-py3-none-any.whl (17 kB)\n",
      "Downloading referencing-0.31.1-py3-none-any.whl (25 kB)\n",
      "Downloading rpds_py-0.13.2-cp311-none-win_amd64.whl (188 kB)\n",
      "   ---------------------------------------- 0.0/188.7 kB ? eta -:--:--\n",
      "   ---------------------------------------- 188.7/188.7 kB 5.8 MB/s eta 0:00:00\n",
      "Installing collected packages: fastjsonschema, rpds-py, attrs, referencing, jsonschema-specifications, jsonschema, nbformat\n",
      "  Attempting uninstall: attrs\n",
      "    Found existing installation: attrs 20.3.0\n",
      "    Uninstalling attrs-20.3.0:\n",
      "      Successfully uninstalled attrs-20.3.0\n",
      "Successfully installed attrs-23.1.0 fastjsonschema-2.19.0 jsonschema-4.20.0 jsonschema-specifications-2023.11.2 nbformat-5.9.2 referencing-0.31.1 rpds-py-0.13.2\n",
      "Note: you may need to restart the kernel to use updated packages.\n"
     ]
    },
    {
     "name": "stderr",
     "output_type": "stream",
     "text": [
      "  WARNING: The script jsonschema.exe is installed in 'c:\\Users\\jack8\\AppData\\Local\\Programs\\Python\\Python311\\Scripts' which is not on PATH.\n",
      "  Consider adding this directory to PATH or, if you prefer to suppress this warning, use --no-warn-script-location.\n",
      "  WARNING: The script jupyter-trust.exe is installed in 'c:\\Users\\jack8\\AppData\\Local\\Programs\\Python\\Python311\\Scripts' which is not on PATH.\n",
      "  Consider adding this directory to PATH or, if you prefer to suppress this warning, use --no-warn-script-location.\n",
      "ERROR: pip's dependency resolver does not currently take into account all the packages that are installed. This behaviour is the source of the following dependency conflicts.\n",
      "lib50 3.0.7 requires attrs<21,>=18.1, but you have attrs 23.1.0 which is incompatible.\n"
     ]
    }
   ],
   "source": [
    "%pip install nbformat"
   ]
  },
  {
   "cell_type": "markdown",
   "metadata": {},
   "source": [
    "**Authentication**"
   ]
  },
  {
   "cell_type": "code",
   "execution_count": null,
   "metadata": {},
   "outputs": [],
   "source": [
    "# Initializing GPT Api\n",
    "api_key = \"\"\n",
    "client = OpenAI(api_key=api_key)"
   ]
  },
  {
   "cell_type": "markdown",
   "metadata": {},
   "source": [
    "**Dataset**"
   ]
  },
  {
   "cell_type": "code",
   "execution_count": 5,
   "metadata": {},
   "outputs": [
    {
     "name": "stdout",
     "output_type": "stream",
     "text": [
      "[{'messages': [{'role': 'system', 'content': 'Jeff is a suggestive chatbot that is good at giving tourist ideas.'}, {'role': 'user', 'content': 'country: Malaysia, state: Penang, day: 1'}, {'role': 'assistant', 'content': 'Day 1: {Event: Breakfast, Place: Pak Mat Western Cafe, Remarks: Authentic nasi lemak, Link: https://maps.app.goo.gl/CQL1DLg7X4shKgqJ7}'}]}, {'messages': [{'role': 'system', 'content': 'Jeff is a suggestive chatbot that is good at giving tourist ideas.'}, {'role': 'user', 'content': 'country: Malaysia, state: Penang, day: 1'}, {'role': 'assistant', 'content': 'Day 1: {Event: Attractions, Place: Mengkuang Dam, Remarks: None, Link: https://maps.app.goo.gl/E3w4QwVDAqQTxT2EA}'}]}, {'messages': [{'role': 'system', 'content': 'Jeff is a suggestive chatbot that is good at giving tourist ideas.'}, {'role': 'user', 'content': 'country: Malaysia, state: Penang, day: 1'}, {'role': 'assistant', 'content': 'Day 1: {Event: Dessert, Place: Bingsu Monster, Remarks: None, Link: https://maps.app.goo.gl/PZB6RouxCKmrxi15A}'}]}, {'messages': [{'role': 'system', 'content': 'Jeff is a suggestive chatbot that is good at giving tourist ideas.'}, {'role': 'user', 'content': 'country: Malaysia, state: Penang, day: 1'}, {'role': 'assistant', 'content': 'Day 1: {Event: Elevenses, Place: BM Famous Ban Chien Kueh, Remarks: None, Link: https://maps.app.goo.gl/kTBVVoMQKaL92Gjz7}'}]}, {'messages': [{'role': 'system', 'content': 'Jeff is a suggestive chatbot that is good at giving tourist ideas.'}, {'role': 'user', 'content': 'country: Malaysia, state: Penang, day: 1'}, {'role': 'assistant', 'content': 'Day 1: {Event: Check in hotel, Place: Tropicana 218 Macalister, Remarks: None, Link: https://maps.app.goo.gl/Mi3tnvAdj62bJXvL9}'}]}, {'messages': [{'role': 'system', 'content': 'Jeff is a suggestive chatbot that is good at giving tourist ideas.'}, {'role': 'user', 'content': 'country: Malaysia, state: Penang, day: 1'}, {'role': 'assistant', 'content': 'Day 1: {Event: Elevenses, Place: Aki Pancake, Remarks: None, Link: https://maps.app.goo.gl/M8qxkWgBsvZnitRG9}'}]}, {'messages': [{'role': 'system', 'content': 'Jeff is a suggestive chatbot that is good at giving tourist ideas.'}, {'role': 'user', 'content': 'country: Malaysia, state: Penang, day: 1'}, {'role': 'assistant', 'content': 'Day 1: {Event: Attractions, Place: Pantai Seagate View Pulau Jerjak, Remarks: None, Link: https://maps.app.goo.gl/a9n8aBvHB3ezAARZ6}'}]}, {'messages': [{'role': 'system', 'content': 'Jeff is a suggestive chatbot that is good at giving tourist ideas.'}, {'role': 'user', 'content': 'country: Malaysia, state: Penang, day: 1'}, {'role': 'assistant', 'content': 'Day 1: {Event: Dinner, Place: Queensbay Mall, Remarks: None, Link: https://maps.app.goo.gl/idTHc6p8gqW2AiTaA}'}]}, {'messages': [{'role': 'system', 'content': 'Jeff is a suggestive chatbot that is good at giving tourist ideas.'}, {'role': 'user', 'content': 'country: Malaysia, state: Penang, day: 1'}, {'role': 'assistant', 'content': 'Day 1: {Event: Shopping, Place: Queensbay Mall, Remarks: None, Link: None}'}]}, {'messages': [{'role': 'system', 'content': 'Jeff is a suggestive chatbot that is good at giving tourist ideas.'}, {'role': 'user', 'content': 'country: Malaysia, state: Penang, day: 1'}, {'role': 'assistant', 'content': 'Day 1: {Event: Supper, Place: Samyang Burger, Remarks: None, Link: https://maps.app.goo.gl/qRofDFPzpFsrb9pB9}'}]}, {'messages': [{'role': 'system', 'content': 'Jeff is a suggestive chatbot that is good at giving tourist ideas.'}, {'role': 'user', 'content': 'country: Malaysia, state: Penang, day: 2'}, {'role': 'assistant', 'content': 'Day 2: {Event: Breakfast, Place: Pulau Tikus Market Hidden Food Court, Remarks: None, Link: https://maps.app.goo.gl/wpRMFpPH1pVMynGt7}'}]}, {'messages': [{'role': 'system', 'content': 'Jeff is a suggestive chatbot that is good at giving tourist ideas.'}, {'role': 'user', 'content': 'country: Malaysia, state: Penang, day: 2'}, {'role': 'assistant', 'content': 'Day 2: {Event: Attractions, Place: Esplanade Walkway, Remarks: None, Link: https://maps.app.goo.gl/4X8o2BKN9g8vzdTt6}'}]}, {'messages': [{'role': 'system', 'content': 'Jeff is a suggestive chatbot that is good at giving tourist ideas.'}, {'role': 'user', 'content': 'country: Malaysia, state: Penang, day: 2'}, {'role': 'assistant', 'content': 'Day 2: {Event: Lunch, Place: Fuku Eatery & Dessert, Remarks: Japanese food, Link: https://maps.app.goo.gl/78ejCaiD13Ugzoqx8}'}]}, {'messages': [{'role': 'system', 'content': 'Jeff is a suggestive chatbot that is good at giving tourist ideas.'}, {'role': 'user', 'content': 'country: Malaysia, state: Penang, day: 2'}, {'role': 'assistant', 'content': 'Day 2: {Event: Dessert, Place: Penang Road Famous Teochew Chendul, Remarks: None, Link: https://maps.app.goo.gl/XmW9cc4TxneRzHkp7}'}]}, {'messages': [{'role': 'system', 'content': 'Jeff is a suggestive chatbot that is good at giving tourist ideas.'}, {'role': 'user', 'content': 'country: Malaysia, state: Penang, day: 2'}, {'role': 'assistant', 'content': 'Day 2: {Event: Attractions, Place: Corgi & The Gang Pet Cafe, Remarks: None, Link: https://maps.app.goo.gl/xNrzMVQ5sNdqbGDu5}'}]}, {'messages': [{'role': 'system', 'content': 'Jeff is a suggestive chatbot that is good at giving tourist ideas.'}, {'role': 'user', 'content': 'country: Malaysia, state: Penang, day: 2'}, {'role': 'assistant', 'content': 'Day 2: {Event: Attractions, Place: Thai Pak Koong Temple Tanjong Tokong, Remarks: None, Link: https://maps.app.goo.gl/vZAhbsQEknzVMqBGA}'}]}, {'messages': [{'role': 'system', 'content': 'Jeff is a suggestive chatbot that is good at giving tourist ideas.'}, {'role': 'user', 'content': 'country: Malaysia, state: Penang, day: 2'}, {'role': 'assistant', 'content': 'Day 2: {Event: Dinner, Place: Pearl Garden Cafe, Remarks: None, Link: https://maps.app.goo.gl/djx6jeF9pgLoNSeA7}'}]}, {'messages': [{'role': 'system', 'content': 'Jeff is a suggestive chatbot that is good at giving tourist ideas.'}, {'role': 'user', 'content': 'country: Malaysia, state: Penang, day: 2'}, {'role': 'assistant', 'content': 'Day 2: {Event: Dessert, Place: Four Seasons Dessert, Remarks: None, Link: https://maps.app.goo.gl/uFsgWE73bCpMqWwD7}'}]}, {'messages': [{'role': 'system', 'content': 'Jeff is a suggestive chatbot that is good at giving tourist ideas.'}, {'role': 'user', 'content': 'country: Malaysia, state: Penang, day: 3'}, {'role': 'assistant', 'content': 'Day 3: {Event: Breakfast, Place: Genting Cafe, Remarks: Rmb to buy mochi, Link: https://maps.app.goo.gl/ACyLiJmgqCdHdtrYA}'}]}, {'messages': [{'role': 'system', 'content': 'Jeff is a suggestive chatbot that is good at giving tourist ideas.'}, {'role': 'user', 'content': 'country: Malaysia, state: Penang, day: 3'}, {'role': 'assistant', 'content': 'Day 3: {Event: Attraction, Place: Fort Cornwallis, Remarks: Historical attractions, Link: https://www.bing.com/maps?q=Fort+Cornwallis&FORM=HDRSC7&cp=5.420622%7E100.343499&lvl=16.0}'}]}, {'messages': [{'role': 'system', 'content': 'Jeff is a suggestive chatbot that is good at giving tourist ideas.'}, {'role': 'user', 'content': 'country: Malaysia, state: Penang, day: 3'}, {'role': 'assistant', 'content': 'Day 3: {Event: Attraction, Place: Have Tea at Suffolk House, Remarks: 15min drive from Fort Cornwallis, Link: https://www.bing.com/maps?osid=de0216fe-025f-4e0b-b61f-35e6b6990fe2&cp=5.410903~100.294833&lvl=16&pi=0&imgid=d9a772ad-ec84-4a2b-873e-348a04fbefd2&v=2&sV=2&form=S00027}'}]}, {'messages': [{'role': 'system', 'content': 'Jeff is a suggestive chatbot that is good at giving tourist ideas.'}, {'role': 'user', 'content': 'country: Malaysia, state: Penang, day: 3'}, {'role': 'assistant', 'content': 'Day 3: {Event: Lunch, Place: Fu er dai, Remarks: dimsum, Link: https://www.bing.com/maps?osid=b6b17612-d5f4-4ca4-9011-24d7a1646731&cp=5.423271~100.322235&lvl=16&pi=0&imgid=c37f352e-81f2-4690-8767-db76f3adf808&v=2&sV=2&form=S00027}'}]}, {'messages': [{'role': 'system', 'content': 'Jeff is a suggestive chatbot that is good at giving tourist ideas.'}, {'role': 'user', 'content': 'country: Malaysia, state: Penang, day: 3'}, {'role': 'assistant', 'content': 'Day 3: {Event: Attraction, Place: Little India, Remarks: none, Link: https://www.bing.com/maps?osid=1c79e0da-d39f-45a0-8fec-cf26546a763f&cp=5.417387~100.338055&lvl=17.45&pi=0&v=2&sV=2&form=S00027}'}]}, {'messages': [{'role': 'system', 'content': 'Jeff is a suggestive chatbot that is good at giving tourist ideas.'}, {'role': 'user', 'content': 'country: Malaysia, state: Penang, day: 3'}, {'role': 'assistant', 'content': 'Day 3: {Event: Attraction, Place: Batu Ferringhi Beach, Remarks: Beach, sunset, Link: https://www.bing.com/maps?osid=769ee8d9-5316-4bc4-8085-bb40080c52a6&cp=5.478125~100.24606&lvl=16&pi=0&v=2&sV=2&form=S00027}'}]}, {'messages': [{'role': 'system', 'content': 'Jeff is a suggestive chatbot that is good at giving tourist ideas.'}, {'role': 'user', 'content': 'country: Malaysia, state: Penang, day: 3'}, {'role': 'assistant', 'content': 'Day 3: {Event: Attraction, Place: Batu Ferringhi Night Market, Remarks: none, Link: https://www.bing.com/maps?osid=f76b7a56-a936-4019-897d-efa027f56a38&cp=5.474964~100.244536&lvl=16&pi=0&imgid=8ac6b41f-73c3-47ba-baac-5165387c51cd&v=2&sV=2&form=S00027}'}]}]\n"
     ]
    }
   ],
   "source": [
    "#Trip dataset\n",
    "%run dataset.ipynb\n",
    "\n",
    "print(shuffled_content)"
   ]
  },
  {
   "cell_type": "code",
   "execution_count": 6,
   "metadata": {},
   "outputs": [],
   "source": [
    "#Converting the database to a suitable format\\\n",
    "import jsonlines\n",
    "\n",
    "jsonl_filename = \"output.jsonl\"\n",
    "\n",
    "#save as JSONL (Json line file)\n",
    "with jsonlines.open(jsonl_filename,\"w\") as writer:\n",
    "    writer.write_all(shuffled_content)"
   ]
  },
  {
   "cell_type": "code",
   "execution_count": 7,
   "metadata": {},
   "outputs": [
    {
     "ename": "NameError",
     "evalue": "name 'client' is not defined",
     "output_type": "error",
     "traceback": [
      "\u001b[1;31m---------------------------------------------------------------------------\u001b[0m",
      "\u001b[1;31mNameError\u001b[0m                                 Traceback (most recent call last)",
      "\u001b[1;32mc:\\Users\\jack8\\OneDrive\\Diploma APU (Software engineer)\\Module\\Web development\\Assignment (SOYA)\\Hackathon-AI-HACK-10\\main.ipynb Cell 11\u001b[0m line \u001b[0;36m2\n\u001b[0;32m      <a href='vscode-notebook-cell:/c%3A/Users/jack8/OneDrive/Diploma%20APU%20%28Software%20engineer%29/Module/Web%20development/Assignment%20%28SOYA%29/Hackathon-AI-HACK-10/main.ipynb#X13sZmlsZQ%3D%3D?line=0'>1</a>\u001b[0m \u001b[39m# Insert the training data into context\u001b[39;00m\n\u001b[1;32m----> <a href='vscode-notebook-cell:/c%3A/Users/jack8/OneDrive/Diploma%20APU%20%28Software%20engineer%29/Module/Web%20development/Assignment%20%28SOYA%29/Hackathon-AI-HACK-10/main.ipynb#X13sZmlsZQ%3D%3D?line=1'>2</a>\u001b[0m file \u001b[39m=\u001b[39m client\u001b[39m.\u001b[39mfiles\u001b[39m.\u001b[39mcreate(\n\u001b[0;32m      <a href='vscode-notebook-cell:/c%3A/Users/jack8/OneDrive/Diploma%20APU%20%28Software%20engineer%29/Module/Web%20development/Assignment%20%28SOYA%29/Hackathon-AI-HACK-10/main.ipynb#X13sZmlsZQ%3D%3D?line=2'>3</a>\u001b[0m   file \u001b[39m=\u001b[39m \u001b[39mopen\u001b[39m(jsonl_filename, \u001b[39m\"\u001b[39m\u001b[39mrb\u001b[39m\u001b[39m\"\u001b[39m),\n\u001b[0;32m      <a href='vscode-notebook-cell:/c%3A/Users/jack8/OneDrive/Diploma%20APU%20%28Software%20engineer%29/Module/Web%20development/Assignment%20%28SOYA%29/Hackathon-AI-HACK-10/main.ipynb#X13sZmlsZQ%3D%3D?line=3'>4</a>\u001b[0m   purpose \u001b[39m=\u001b[39m \u001b[39m\"\u001b[39m\u001b[39mfine-tune\u001b[39m\u001b[39m\"\u001b[39m\n\u001b[0;32m      <a href='vscode-notebook-cell:/c%3A/Users/jack8/OneDrive/Diploma%20APU%20%28Software%20engineer%29/Module/Web%20development/Assignment%20%28SOYA%29/Hackathon-AI-HACK-10/main.ipynb#X13sZmlsZQ%3D%3D?line=4'>5</a>\u001b[0m )\n\u001b[0;32m      <a href='vscode-notebook-cell:/c%3A/Users/jack8/OneDrive/Diploma%20APU%20%28Software%20engineer%29/Module/Web%20development/Assignment%20%28SOYA%29/Hackathon-AI-HACK-10/main.ipynb#X13sZmlsZQ%3D%3D?line=7'>8</a>\u001b[0m \u001b[39m# Extracting the dataset id\u001b[39;00m\n\u001b[0;32m      <a href='vscode-notebook-cell:/c%3A/Users/jack8/OneDrive/Diploma%20APU%20%28Software%20engineer%29/Module/Web%20development/Assignment%20%28SOYA%29/Hackathon-AI-HACK-10/main.ipynb#X13sZmlsZQ%3D%3D?line=8'>9</a>\u001b[0m dataset \u001b[39m=\u001b[39m file\u001b[39m.\u001b[39mid\n",
      "\u001b[1;31mNameError\u001b[0m: name 'client' is not defined"
     ]
    }
   ],
   "source": [
    "# Insert the training data into context\n",
    "file = client.files.create(\n",
    "  file = open(jsonl_filename, \"rb\"),\n",
    "  purpose = \"fine-tune\"\n",
    ")\n",
    "\n",
    "\n",
    "# Extracting the dataset id\n",
    "dataset = file.id\n",
    "print(dataset)"
   ]
  },
  {
   "cell_type": "markdown",
   "metadata": {},
   "source": [
    "**Training our model**"
   ]
  },
  {
   "cell_type": "code",
   "execution_count": null,
   "metadata": {},
   "outputs": [],
   "source": [
    "# Starting a fine-tuning job\n",
    "trained_model = client.fine_tuning.jobs.create(\n",
    "  training_file=dataset, \n",
    "  model=\"gpt-3.5-turbo\",\n",
    "hyperparameters={\n",
    "    \"n_epochs\":1\n",
    "  }\n",
    ")\n",
    "\n",
    "# Retrieving The model Training Status\n",
    "jobstatus = client.fine_tuning.jobs.retrieve(trained_model.id)\n",
    "print(jobstatus)"
   ]
  },
  {
   "cell_type": "code",
   "execution_count": null,
   "metadata": {},
   "outputs": [],
   "source": [
    "# Retrieving The model Training Status\n",
    "jobstatus = client.fine_tuning.jobs.retrieve(trained_model.id)\n",
    "print(jobstatus)"
   ]
  },
  {
   "cell_type": "markdown",
   "metadata": {},
   "source": [
    "**Extracting Model**"
   ]
  },
  {
   "cell_type": "code",
   "execution_count": null,
   "metadata": {},
   "outputs": [],
   "source": [
    "# Retrieving The fine-tuned model id\n",
    "fine_tuned_model = jobstatus.fine_tuned_model\n",
    "print(fine_tuned_model)"
   ]
  },
  {
   "cell_type": "markdown",
   "metadata": {},
   "source": [
    "Interacting with ai\n"
   ]
  },
  {
   "cell_type": "code",
   "execution_count": null,
   "metadata": {},
   "outputs": [],
   "source": [
    "# Generate the response\n",
    "def answer(question):\n",
    "\n",
    "    prompt = [{\"role\": \"system\", \"content\": \"Marv is a rude chatbot that is also blunt.\"}, {\"role\": \"user\", \"content\": question}]\n",
    "    response = client.chat.completions.create(\n",
    "        model=fine_tuned_model,\n",
    "        messages=prompt \n",
    "        )\n",
    "    \n",
    "    response_msg = response.choices[0].message.content\n",
    "\n",
    "    return response_msg"
   ]
  },
  {
   "cell_type": "code",
   "execution_count": 8,
   "metadata": {},
   "outputs": [
    {
     "name": "stdout",
     "output_type": "stream",
     "text": [
      "country: hi, state: s, day: 1\n"
     ]
    }
   ],
   "source": [
    "#prompt for input from user\n",
    "country = input(\"Country: \")\n",
    "state = input(\"State: \")\n",
    "day = input(\"Number of day: \")\n",
    "\n",
    "command = f\"country: {country}, state: {state}, day: {day}\"\n",
    "\n",
    "# Generate the response\n",
    "output = answer(command)\n",
    "print(output)"
   ]
  }
 ],
 "metadata": {
  "kernelspec": {
   "display_name": "Python 3",
   "language": "python",
   "name": "python3"
  },
  "language_info": {
   "codemirror_mode": {
    "name": "ipython",
    "version": 3
   },
   "file_extension": ".py",
   "mimetype": "text/x-python",
   "name": "python",
   "nbconvert_exporter": "python",
   "pygments_lexer": "ipython3",
   "version": "3.11.3"
  }
 },
 "nbformat": 4,
 "nbformat_minor": 2
}
