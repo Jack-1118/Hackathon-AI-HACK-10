{
 "cells": [
  {
   "cell_type": "markdown",
   "metadata": {},
   "source": [
    "**Dependencies**"
   ]
  },
  {
   "cell_type": "code",
   "execution_count": null,
   "metadata": {},
   "outputs": [],
   "source": [
    "# Installing python dependencies\n",
    "%pip install openai jsonlines"
   ]
  },
  {
   "cell_type": "code",
   "execution_count": 2,
   "metadata": {},
   "outputs": [],
   "source": [
    "# Import Libraries\n",
    "\n",
    "import json\n",
    "from openai import OpenAI"
   ]
  },
  {
   "cell_type": "markdown",
   "metadata": {},
   "source": [
    "**Module**"
   ]
  },
  {
   "cell_type": "code",
   "execution_count": 7,
   "metadata": {},
   "outputs": [
    {
     "name": "stdout",
     "output_type": "stream",
     "text": [
      "Collecting nbformat\n",
      "  Downloading nbformat-5.9.2-py3-none-any.whl (77 kB)\n",
      "     -------------------------------------- 77.6/77.6 kB 215.2 kB/s eta 0:00:00\n",
      "Collecting fastjsonschema\n",
      "  Downloading fastjsonschema-2.19.0-py3-none-any.whl (23 kB)\n",
      "Collecting jsonschema>=2.6\n",
      "  Downloading jsonschema-4.20.0-py3-none-any.whl (84 kB)\n",
      "     -------------------------------------- 84.7/84.7 kB 339.8 kB/s eta 0:00:00\n",
      "Requirement already satisfied: jupyter-core in c:\\users\\theke\\appdata\\roaming\\python\\python311\\site-packages (from nbformat) (5.3.1)\n",
      "Requirement already satisfied: traitlets>=5.1 in c:\\users\\theke\\appdata\\roaming\\python\\python311\\site-packages (from nbformat) (5.9.0)\n",
      "Requirement already satisfied: attrs>=22.2.0 in c:\\users\\theke\\appdata\\local\\programs\\python\\python311\\lib\\site-packages (from jsonschema>=2.6->nbformat) (23.1.0)\n",
      "Collecting jsonschema-specifications>=2023.03.6\n",
      "  Downloading jsonschema_specifications-2023.11.2-py3-none-any.whl (17 kB)\n",
      "Collecting referencing>=0.28.4\n",
      "  Downloading referencing-0.31.1-py3-none-any.whl (25 kB)\n",
      "Collecting rpds-py>=0.7.1\n",
      "  Downloading rpds_py-0.13.2-cp311-none-win_amd64.whl (188 kB)\n",
      "     -------------------------------------- 188.7/188.7 kB 2.3 MB/s eta 0:00:00\n",
      "Requirement already satisfied: platformdirs>=2.5 in c:\\users\\theke\\appdata\\roaming\\python\\python311\\site-packages (from jupyter-core->nbformat) (3.7.0)\n",
      "Requirement already satisfied: pywin32>=300 in c:\\users\\theke\\appdata\\roaming\\python\\python311\\site-packages (from jupyter-core->nbformat) (306)\n",
      "Installing collected packages: fastjsonschema, rpds-py, referencing, jsonschema-specifications, jsonschema, nbformat\n",
      "Successfully installed fastjsonschema-2.19.0 jsonschema-4.20.0 jsonschema-specifications-2023.11.2 nbformat-5.9.2 referencing-0.31.1 rpds-py-0.13.2\n",
      "Note: you may need to restart the kernel to use updated packages.\n"
     ]
    },
    {
     "name": "stderr",
     "output_type": "stream",
     "text": [
      "\n",
      "[notice] A new release of pip available: 22.3.1 -> 23.3.1\n",
      "[notice] To update, run: python.exe -m pip install --upgrade pip\n"
     ]
    }
   ],
   "source": [
    "%pip install nbformat"
   ]
  },
  {
   "cell_type": "markdown",
   "metadata": {},
   "source": [
    "**Authentication**"
   ]
  },
  {
   "cell_type": "code",
   "execution_count": null,
   "metadata": {},
   "outputs": [],
   "source": [
    "# Initializing GPT Api\n",
    "api_key = \"\"\n",
    "client = OpenAI(api_key=api_key)"
   ]
  },
  {
   "cell_type": "markdown",
   "metadata": {},
   "source": [
    "**Dataset**"
   ]
  },
  {
   "cell_type": "code",
   "execution_count": null,
   "metadata": {},
   "outputs": [],
   "source": [
    "#Trip dataset\n",
    "%run dataset.ipynb\n",
    "\n",
    "print(data)"
   ]
  },
  {
   "cell_type": "code",
   "execution_count": null,
   "metadata": {},
   "outputs": [],
   "source": [
    "#Converting the database to a suitable format\\\n",
    "import jsonlines\n",
    "\n",
    "jsonl_filename = \"output.jsonl\"\n",
    "\n",
    "#save as JSONL (Json line file)\n",
    "with jsonlines.open(jsonl_filename,\"w\") as writer:\n",
    "    writer.write_all(data)"
   ]
  },
  {
   "cell_type": "code",
   "execution_count": null,
   "metadata": {},
   "outputs": [],
   "source": [
    "# Insert the training data into context\n",
    "file = client.files.create(\n",
    "  file = open(jsonl_filename, \"rb\"),\n",
    "  purpose = \"fine-tune\"\n",
    ")\n",
    "\n",
    "\n",
    "# Extracting the dataset id\n",
    "dataset = file.id\n",
    "print(dataset)"
   ]
  },
  {
   "cell_type": "markdown",
   "metadata": {},
   "source": [
    "**Training our model**"
   ]
  },
  {
   "cell_type": "code",
   "execution_count": null,
   "metadata": {},
   "outputs": [],
   "source": [
    "# Starting a fine-tuning job\n",
    "trained_model = client.fine_tuning.jobs.create(\n",
    "  training_file=dataset, \n",
    "  model=\"gpt-3.5-turbo\",\n",
    "hyperparameters={\n",
    "    \"n_epochs\":1\n",
    "  }\n",
    ")\n",
    "\n",
    "# Retrieving The model Training Status\n",
    "jobstatus = client.fine_tuning.jobs.retrieve(trained_model.id)\n",
    "print(jobstatus)"
   ]
  },
  {
   "cell_type": "code",
   "execution_count": null,
   "metadata": {},
   "outputs": [],
   "source": [
    "# Retrieving The model Training Status\n",
    "jobstatus = client.fine_tuning.jobs.retrieve(trained_model.id)\n",
    "print(jobstatus)"
   ]
  },
  {
   "cell_type": "markdown",
   "metadata": {},
   "source": [
    "**Extracting Model**"
   ]
  },
  {
   "cell_type": "code",
   "execution_count": null,
   "metadata": {},
   "outputs": [],
   "source": [
    "# Retrieving The fine-tuned model id\n",
    "fine_tuned_model = jobstatus.fine_tuned_model\n",
    "print(fine_tuned_model)"
   ]
  },
  {
   "cell_type": "markdown",
   "metadata": {},
   "source": [
    "**Testing**"
   ]
  },
  {
   "cell_type": "code",
   "execution_count": null,
   "metadata": {},
   "outputs": [],
   "source": [
    "client.chat.completions.create(\n",
    "model = fine_tuned_model,\n",
    "    messages = [\n",
    "        {\"role\": \"System\", \"content\":  }\n",
    "    ]\n",
    ")"
   ]
  },
  {
   "cell_type": "markdown",
   "metadata": {},
   "source": [
    "**Keep Track of Conversation History**"
   ]
  },
  {
   "cell_type": "code",
   "execution_count": null,
   "metadata": {},
   "outputs": [],
   "source": [
    "#Keeping track of chat history\n",
    "# Keeping track of chat history\n",
    "history = []\n",
    "def rude_guy(message):\n",
    "    # adding to history\n",
    "    history.append({\"role\": \"system\", \"content\": \"Marv is a rude chatbot that is also blunt.\"})\n",
    "    history.append({\"role\": \"user\", \"content\": message})\n",
    "\n",
    "    # Processing the history and new message\n",
    "    response = client.chat.completions.create(\n",
    "      model=fine_tuned_model,\n",
    "      messages=history\n",
    "    )\n",
    "\n",
    "    # getting the response\n",
    "    response_msg = response.choices[0].message.content\n",
    "\n",
    "    # adding the response to the history\n",
    "    history.append({\"role\": \"system\", \"content\": response_msg})\n",
    "\n",
    "    # returning the response to the user\n",
    "    return response_msg"
   ]
  },
  {
   "cell_type": "code",
   "execution_count": null,
   "metadata": {},
   "outputs": [],
   "source": [
    "print(rude_guy(\"What does hakuna mata means? it means the world is crazy\"))"
   ]
  }
 ],
 "metadata": {
  "kernelspec": {
   "display_name": "Python 3",
   "language": "python",
   "name": "python3"
  },
  "language_info": {
   "codemirror_mode": {
    "name": "ipython",
    "version": 3
   },
   "file_extension": ".py",
   "mimetype": "text/x-python",
   "name": "python",
   "nbconvert_exporter": "python",
   "pygments_lexer": "ipython3",
   "version": "3.11.3"
  }
 },
 "nbformat": 4,
 "nbformat_minor": 2
}
